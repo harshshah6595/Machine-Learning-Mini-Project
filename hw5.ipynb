{
 "cells": [
  {
   "cell_type": "markdown",
   "metadata": {},
   "source": [
    "# GOAL OF THE PROJECT"
   ]
  },
  {
   "cell_type": "markdown",
   "metadata": {},
   "source": [
    "The Data set is the actually a survey which was taken from students at FSEV UK. The data set contains 150 columns and 1010 rows.The original questionnaire was in Slovak language and was later translated into English. The main goal of this project is to \"PREDICT HOW LIKELY A PERSON WILL PAY MORE MOENY FOR GOOD, QUALITY OR HEALTHY FOOD\"."
   ]
  },
  {
   "cell_type": "markdown",
   "metadata": {},
   "source": [
    "# Importing packages"
   ]
  },
  {
   "cell_type": "code",
   "execution_count": 29,
   "metadata": {},
   "outputs": [],
   "source": [
    "import pandas as pd\n",
    "import numpy as np\n",
    "import seaborn as sns\n",
    "import warnings\n",
    "from sklearn.model_selection import train_test_split\n",
    "from sklearn.metrics import classification_report,confusion_matrix\n",
    "from imblearn import under_sampling, over_sampling\n",
    "from imblearn.over_sampling import SMOTE\n",
    "from sklearn.tree import DecisionTreeClassifier\n",
    "from sklearn.metrics import accuracy_score\n",
    "from sklearn.neighbors import KNeighborsClassifier\n",
    "from sklearn.feature_selection import SelectKBest\n",
    "from sklearn.feature_selection import chi2\n",
    "from sklearn.decomposition import PCA\n",
    "from sklearn.neural_network import MLPClassifier\n",
    "from sklearn.grid_search import GridSearchCV\n",
    "from sklearn.ensemble import ExtraTreesClassifier\n",
    "from sklearn.ensemble import RandomForestClassifier\n",
    "from sklearn.ensemble import AdaBoostClassifier\n",
    "from sklearn.ensemble import GradientBoostingClassifier\n",
    "from sklearn.ensemble import VotingClassifier\n",
    "from sklearn.svm import SVC\n",
    "from sklearn.naive_bayes import GaussianNB\n",
    "from sklearn.preprocessing import StandardScaler\n",
    "from sklearn.ensemble import BaggingClassifier\n",
    "import matplotlib.pyplot as plt\n",
    "%matplotlib inline\n",
    "warnings.filterwarnings('ignore')"
   ]
  },
  {
   "cell_type": "code",
   "execution_count": 2,
   "metadata": {
    "collapsed": true
   },
   "outputs": [],
   "source": [
    "df= pd.read_csv('responses.csv')"
   ]
  },
  {
   "cell_type": "markdown",
   "metadata": {},
   "source": [
    "# Getting familiarized with the data"
   ]
  },
  {
   "cell_type": "code",
   "execution_count": 3,
   "metadata": {},
   "outputs": [
    {
     "data": {
      "text/html": [
       "<div>\n",
       "<style scoped>\n",
       "    .dataframe tbody tr th:only-of-type {\n",
       "        vertical-align: middle;\n",
       "    }\n",
       "\n",
       "    .dataframe tbody tr th {\n",
       "        vertical-align: top;\n",
       "    }\n",
       "\n",
       "    .dataframe thead th {\n",
       "        text-align: right;\n",
       "    }\n",
       "</style>\n",
       "<table border=\"1\" class=\"dataframe\">\n",
       "  <thead>\n",
       "    <tr style=\"text-align: right;\">\n",
       "      <th></th>\n",
       "      <th>Music</th>\n",
       "      <th>Slow songs or fast songs</th>\n",
       "      <th>Dance</th>\n",
       "      <th>Folk</th>\n",
       "      <th>Country</th>\n",
       "      <th>Classical music</th>\n",
       "      <th>Musical</th>\n",
       "      <th>Pop</th>\n",
       "      <th>Rock</th>\n",
       "      <th>Metal or Hardrock</th>\n",
       "      <th>...</th>\n",
       "      <th>Age</th>\n",
       "      <th>Height</th>\n",
       "      <th>Weight</th>\n",
       "      <th>Number of siblings</th>\n",
       "      <th>Gender</th>\n",
       "      <th>Left - right handed</th>\n",
       "      <th>Education</th>\n",
       "      <th>Only child</th>\n",
       "      <th>Village - town</th>\n",
       "      <th>House - block of flats</th>\n",
       "    </tr>\n",
       "  </thead>\n",
       "  <tbody>\n",
       "    <tr>\n",
       "      <th>0</th>\n",
       "      <td>5.0</td>\n",
       "      <td>3.0</td>\n",
       "      <td>2.0</td>\n",
       "      <td>1.0</td>\n",
       "      <td>2.0</td>\n",
       "      <td>2.0</td>\n",
       "      <td>1.0</td>\n",
       "      <td>5.0</td>\n",
       "      <td>5.0</td>\n",
       "      <td>1.0</td>\n",
       "      <td>...</td>\n",
       "      <td>20.0</td>\n",
       "      <td>163.0</td>\n",
       "      <td>48.0</td>\n",
       "      <td>1.0</td>\n",
       "      <td>female</td>\n",
       "      <td>right handed</td>\n",
       "      <td>college/bachelor degree</td>\n",
       "      <td>no</td>\n",
       "      <td>village</td>\n",
       "      <td>block of flats</td>\n",
       "    </tr>\n",
       "    <tr>\n",
       "      <th>1</th>\n",
       "      <td>4.0</td>\n",
       "      <td>4.0</td>\n",
       "      <td>2.0</td>\n",
       "      <td>1.0</td>\n",
       "      <td>1.0</td>\n",
       "      <td>1.0</td>\n",
       "      <td>2.0</td>\n",
       "      <td>3.0</td>\n",
       "      <td>5.0</td>\n",
       "      <td>4.0</td>\n",
       "      <td>...</td>\n",
       "      <td>19.0</td>\n",
       "      <td>163.0</td>\n",
       "      <td>58.0</td>\n",
       "      <td>2.0</td>\n",
       "      <td>female</td>\n",
       "      <td>right handed</td>\n",
       "      <td>college/bachelor degree</td>\n",
       "      <td>no</td>\n",
       "      <td>city</td>\n",
       "      <td>block of flats</td>\n",
       "    </tr>\n",
       "    <tr>\n",
       "      <th>2</th>\n",
       "      <td>5.0</td>\n",
       "      <td>5.0</td>\n",
       "      <td>2.0</td>\n",
       "      <td>2.0</td>\n",
       "      <td>3.0</td>\n",
       "      <td>4.0</td>\n",
       "      <td>5.0</td>\n",
       "      <td>3.0</td>\n",
       "      <td>5.0</td>\n",
       "      <td>3.0</td>\n",
       "      <td>...</td>\n",
       "      <td>20.0</td>\n",
       "      <td>176.0</td>\n",
       "      <td>67.0</td>\n",
       "      <td>2.0</td>\n",
       "      <td>female</td>\n",
       "      <td>right handed</td>\n",
       "      <td>secondary school</td>\n",
       "      <td>no</td>\n",
       "      <td>city</td>\n",
       "      <td>block of flats</td>\n",
       "    </tr>\n",
       "    <tr>\n",
       "      <th>3</th>\n",
       "      <td>5.0</td>\n",
       "      <td>3.0</td>\n",
       "      <td>2.0</td>\n",
       "      <td>1.0</td>\n",
       "      <td>1.0</td>\n",
       "      <td>1.0</td>\n",
       "      <td>1.0</td>\n",
       "      <td>2.0</td>\n",
       "      <td>2.0</td>\n",
       "      <td>1.0</td>\n",
       "      <td>...</td>\n",
       "      <td>22.0</td>\n",
       "      <td>172.0</td>\n",
       "      <td>59.0</td>\n",
       "      <td>1.0</td>\n",
       "      <td>female</td>\n",
       "      <td>right handed</td>\n",
       "      <td>college/bachelor degree</td>\n",
       "      <td>yes</td>\n",
       "      <td>city</td>\n",
       "      <td>house/bungalow</td>\n",
       "    </tr>\n",
       "    <tr>\n",
       "      <th>4</th>\n",
       "      <td>5.0</td>\n",
       "      <td>3.0</td>\n",
       "      <td>4.0</td>\n",
       "      <td>3.0</td>\n",
       "      <td>2.0</td>\n",
       "      <td>4.0</td>\n",
       "      <td>3.0</td>\n",
       "      <td>5.0</td>\n",
       "      <td>3.0</td>\n",
       "      <td>1.0</td>\n",
       "      <td>...</td>\n",
       "      <td>20.0</td>\n",
       "      <td>170.0</td>\n",
       "      <td>59.0</td>\n",
       "      <td>1.0</td>\n",
       "      <td>female</td>\n",
       "      <td>right handed</td>\n",
       "      <td>secondary school</td>\n",
       "      <td>no</td>\n",
       "      <td>village</td>\n",
       "      <td>house/bungalow</td>\n",
       "    </tr>\n",
       "  </tbody>\n",
       "</table>\n",
       "<p>5 rows × 150 columns</p>\n",
       "</div>"
      ],
      "text/plain": [
       "   Music  Slow songs or fast songs  Dance  Folk  Country  Classical music  \\\n",
       "0    5.0                       3.0    2.0   1.0      2.0              2.0   \n",
       "1    4.0                       4.0    2.0   1.0      1.0              1.0   \n",
       "2    5.0                       5.0    2.0   2.0      3.0              4.0   \n",
       "3    5.0                       3.0    2.0   1.0      1.0              1.0   \n",
       "4    5.0                       3.0    4.0   3.0      2.0              4.0   \n",
       "\n",
       "   Musical  Pop  Rock  Metal or Hardrock           ...             Age  \\\n",
       "0      1.0  5.0   5.0                1.0           ...            20.0   \n",
       "1      2.0  3.0   5.0                4.0           ...            19.0   \n",
       "2      5.0  3.0   5.0                3.0           ...            20.0   \n",
       "3      1.0  2.0   2.0                1.0           ...            22.0   \n",
       "4      3.0  5.0   3.0                1.0           ...            20.0   \n",
       "\n",
       "   Height  Weight  Number of siblings  Gender  Left - right handed  \\\n",
       "0   163.0    48.0                 1.0  female         right handed   \n",
       "1   163.0    58.0                 2.0  female         right handed   \n",
       "2   176.0    67.0                 2.0  female         right handed   \n",
       "3   172.0    59.0                 1.0  female         right handed   \n",
       "4   170.0    59.0                 1.0  female         right handed   \n",
       "\n",
       "                 Education  Only child  Village - town  House - block of flats  \n",
       "0  college/bachelor degree          no         village          block of flats  \n",
       "1  college/bachelor degree          no            city          block of flats  \n",
       "2         secondary school          no            city          block of flats  \n",
       "3  college/bachelor degree         yes            city          house/bungalow  \n",
       "4         secondary school          no         village          house/bungalow  \n",
       "\n",
       "[5 rows x 150 columns]"
      ]
     },
     "execution_count": 3,
     "metadata": {},
     "output_type": "execute_result"
    }
   ],
   "source": [
    "df.head()"
   ]
  },
  {
   "cell_type": "code",
   "execution_count": 4,
   "metadata": {},
   "outputs": [
    {
     "name": "stdout",
     "output_type": "stream",
     "text": [
      "<class 'pandas.core.frame.DataFrame'>\n",
      "RangeIndex: 1010 entries, 0 to 1009\n",
      "Columns: 150 entries, Music to House - block of flats\n",
      "dtypes: float64(134), int64(5), object(11)\n",
      "memory usage: 1.2+ MB\n"
     ]
    }
   ],
   "source": [
    "df.info()"
   ]
  },
  {
   "cell_type": "code",
   "execution_count": 5,
   "metadata": {},
   "outputs": [
    {
     "data": {
      "text/html": [
       "<div>\n",
       "<style scoped>\n",
       "    .dataframe tbody tr th:only-of-type {\n",
       "        vertical-align: middle;\n",
       "    }\n",
       "\n",
       "    .dataframe tbody tr th {\n",
       "        vertical-align: top;\n",
       "    }\n",
       "\n",
       "    .dataframe thead th {\n",
       "        text-align: right;\n",
       "    }\n",
       "</style>\n",
       "<table border=\"1\" class=\"dataframe\">\n",
       "  <thead>\n",
       "    <tr style=\"text-align: right;\">\n",
       "      <th></th>\n",
       "      <th>Music</th>\n",
       "      <th>Slow songs or fast songs</th>\n",
       "      <th>Dance</th>\n",
       "      <th>Folk</th>\n",
       "      <th>Country</th>\n",
       "      <th>Classical music</th>\n",
       "      <th>Musical</th>\n",
       "      <th>Pop</th>\n",
       "      <th>Rock</th>\n",
       "      <th>Metal or Hardrock</th>\n",
       "      <th>...</th>\n",
       "      <th>Shopping centres</th>\n",
       "      <th>Branded clothing</th>\n",
       "      <th>Entertainment spending</th>\n",
       "      <th>Spending on looks</th>\n",
       "      <th>Spending on gadgets</th>\n",
       "      <th>Spending on healthy eating</th>\n",
       "      <th>Age</th>\n",
       "      <th>Height</th>\n",
       "      <th>Weight</th>\n",
       "      <th>Number of siblings</th>\n",
       "    </tr>\n",
       "  </thead>\n",
       "  <tbody>\n",
       "    <tr>\n",
       "      <th>count</th>\n",
       "      <td>1007.000000</td>\n",
       "      <td>1008.000000</td>\n",
       "      <td>1006.000000</td>\n",
       "      <td>1005.000000</td>\n",
       "      <td>1005.000000</td>\n",
       "      <td>1003.000000</td>\n",
       "      <td>1008.000000</td>\n",
       "      <td>1007.000000</td>\n",
       "      <td>1004.000000</td>\n",
       "      <td>1007.000000</td>\n",
       "      <td>...</td>\n",
       "      <td>1008.000000</td>\n",
       "      <td>1008.000000</td>\n",
       "      <td>1007.000000</td>\n",
       "      <td>1007.000000</td>\n",
       "      <td>1010.000000</td>\n",
       "      <td>1008.00000</td>\n",
       "      <td>1003.000000</td>\n",
       "      <td>990.000000</td>\n",
       "      <td>990.000000</td>\n",
       "      <td>1004.000000</td>\n",
       "    </tr>\n",
       "    <tr>\n",
       "      <th>mean</th>\n",
       "      <td>4.731877</td>\n",
       "      <td>3.328373</td>\n",
       "      <td>3.113320</td>\n",
       "      <td>2.288557</td>\n",
       "      <td>2.123383</td>\n",
       "      <td>2.956132</td>\n",
       "      <td>2.761905</td>\n",
       "      <td>3.471698</td>\n",
       "      <td>3.761952</td>\n",
       "      <td>2.361470</td>\n",
       "      <td>...</td>\n",
       "      <td>3.234127</td>\n",
       "      <td>3.050595</td>\n",
       "      <td>3.201589</td>\n",
       "      <td>3.106256</td>\n",
       "      <td>2.870297</td>\n",
       "      <td>3.55754</td>\n",
       "      <td>20.433699</td>\n",
       "      <td>173.514141</td>\n",
       "      <td>66.405051</td>\n",
       "      <td>1.297809</td>\n",
       "    </tr>\n",
       "    <tr>\n",
       "      <th>std</th>\n",
       "      <td>0.664049</td>\n",
       "      <td>0.833931</td>\n",
       "      <td>1.170568</td>\n",
       "      <td>1.138916</td>\n",
       "      <td>1.076136</td>\n",
       "      <td>1.252570</td>\n",
       "      <td>1.260845</td>\n",
       "      <td>1.161400</td>\n",
       "      <td>1.184861</td>\n",
       "      <td>1.372995</td>\n",
       "      <td>...</td>\n",
       "      <td>1.323062</td>\n",
       "      <td>1.306321</td>\n",
       "      <td>1.188947</td>\n",
       "      <td>1.205368</td>\n",
       "      <td>1.284970</td>\n",
       "      <td>1.09375</td>\n",
       "      <td>2.828840</td>\n",
       "      <td>10.024505</td>\n",
       "      <td>13.839561</td>\n",
       "      <td>1.013348</td>\n",
       "    </tr>\n",
       "    <tr>\n",
       "      <th>min</th>\n",
       "      <td>1.000000</td>\n",
       "      <td>1.000000</td>\n",
       "      <td>1.000000</td>\n",
       "      <td>1.000000</td>\n",
       "      <td>1.000000</td>\n",
       "      <td>1.000000</td>\n",
       "      <td>1.000000</td>\n",
       "      <td>1.000000</td>\n",
       "      <td>1.000000</td>\n",
       "      <td>1.000000</td>\n",
       "      <td>...</td>\n",
       "      <td>1.000000</td>\n",
       "      <td>1.000000</td>\n",
       "      <td>1.000000</td>\n",
       "      <td>1.000000</td>\n",
       "      <td>1.000000</td>\n",
       "      <td>1.00000</td>\n",
       "      <td>15.000000</td>\n",
       "      <td>62.000000</td>\n",
       "      <td>41.000000</td>\n",
       "      <td>0.000000</td>\n",
       "    </tr>\n",
       "    <tr>\n",
       "      <th>25%</th>\n",
       "      <td>5.000000</td>\n",
       "      <td>3.000000</td>\n",
       "      <td>2.000000</td>\n",
       "      <td>1.000000</td>\n",
       "      <td>1.000000</td>\n",
       "      <td>2.000000</td>\n",
       "      <td>2.000000</td>\n",
       "      <td>3.000000</td>\n",
       "      <td>3.000000</td>\n",
       "      <td>1.000000</td>\n",
       "      <td>...</td>\n",
       "      <td>2.000000</td>\n",
       "      <td>2.000000</td>\n",
       "      <td>2.000000</td>\n",
       "      <td>2.000000</td>\n",
       "      <td>2.000000</td>\n",
       "      <td>3.00000</td>\n",
       "      <td>19.000000</td>\n",
       "      <td>167.000000</td>\n",
       "      <td>55.000000</td>\n",
       "      <td>1.000000</td>\n",
       "    </tr>\n",
       "    <tr>\n",
       "      <th>50%</th>\n",
       "      <td>5.000000</td>\n",
       "      <td>3.000000</td>\n",
       "      <td>3.000000</td>\n",
       "      <td>2.000000</td>\n",
       "      <td>2.000000</td>\n",
       "      <td>3.000000</td>\n",
       "      <td>3.000000</td>\n",
       "      <td>4.000000</td>\n",
       "      <td>4.000000</td>\n",
       "      <td>2.000000</td>\n",
       "      <td>...</td>\n",
       "      <td>3.000000</td>\n",
       "      <td>3.000000</td>\n",
       "      <td>3.000000</td>\n",
       "      <td>3.000000</td>\n",
       "      <td>3.000000</td>\n",
       "      <td>4.00000</td>\n",
       "      <td>20.000000</td>\n",
       "      <td>173.000000</td>\n",
       "      <td>64.000000</td>\n",
       "      <td>1.000000</td>\n",
       "    </tr>\n",
       "    <tr>\n",
       "      <th>75%</th>\n",
       "      <td>5.000000</td>\n",
       "      <td>4.000000</td>\n",
       "      <td>4.000000</td>\n",
       "      <td>3.000000</td>\n",
       "      <td>3.000000</td>\n",
       "      <td>4.000000</td>\n",
       "      <td>4.000000</td>\n",
       "      <td>4.000000</td>\n",
       "      <td>5.000000</td>\n",
       "      <td>3.000000</td>\n",
       "      <td>...</td>\n",
       "      <td>4.000000</td>\n",
       "      <td>4.000000</td>\n",
       "      <td>4.000000</td>\n",
       "      <td>4.000000</td>\n",
       "      <td>4.000000</td>\n",
       "      <td>4.00000</td>\n",
       "      <td>22.000000</td>\n",
       "      <td>180.000000</td>\n",
       "      <td>75.000000</td>\n",
       "      <td>2.000000</td>\n",
       "    </tr>\n",
       "    <tr>\n",
       "      <th>max</th>\n",
       "      <td>5.000000</td>\n",
       "      <td>5.000000</td>\n",
       "      <td>5.000000</td>\n",
       "      <td>5.000000</td>\n",
       "      <td>5.000000</td>\n",
       "      <td>5.000000</td>\n",
       "      <td>5.000000</td>\n",
       "      <td>5.000000</td>\n",
       "      <td>5.000000</td>\n",
       "      <td>5.000000</td>\n",
       "      <td>...</td>\n",
       "      <td>5.000000</td>\n",
       "      <td>5.000000</td>\n",
       "      <td>5.000000</td>\n",
       "      <td>5.000000</td>\n",
       "      <td>5.000000</td>\n",
       "      <td>5.00000</td>\n",
       "      <td>30.000000</td>\n",
       "      <td>203.000000</td>\n",
       "      <td>165.000000</td>\n",
       "      <td>10.000000</td>\n",
       "    </tr>\n",
       "  </tbody>\n",
       "</table>\n",
       "<p>8 rows × 139 columns</p>\n",
       "</div>"
      ],
      "text/plain": [
       "             Music  Slow songs or fast songs        Dance         Folk  \\\n",
       "count  1007.000000               1008.000000  1006.000000  1005.000000   \n",
       "mean      4.731877                  3.328373     3.113320     2.288557   \n",
       "std       0.664049                  0.833931     1.170568     1.138916   \n",
       "min       1.000000                  1.000000     1.000000     1.000000   \n",
       "25%       5.000000                  3.000000     2.000000     1.000000   \n",
       "50%       5.000000                  3.000000     3.000000     2.000000   \n",
       "75%       5.000000                  4.000000     4.000000     3.000000   \n",
       "max       5.000000                  5.000000     5.000000     5.000000   \n",
       "\n",
       "           Country  Classical music      Musical          Pop         Rock  \\\n",
       "count  1005.000000      1003.000000  1008.000000  1007.000000  1004.000000   \n",
       "mean      2.123383         2.956132     2.761905     3.471698     3.761952   \n",
       "std       1.076136         1.252570     1.260845     1.161400     1.184861   \n",
       "min       1.000000         1.000000     1.000000     1.000000     1.000000   \n",
       "25%       1.000000         2.000000     2.000000     3.000000     3.000000   \n",
       "50%       2.000000         3.000000     3.000000     4.000000     4.000000   \n",
       "75%       3.000000         4.000000     4.000000     4.000000     5.000000   \n",
       "max       5.000000         5.000000     5.000000     5.000000     5.000000   \n",
       "\n",
       "       Metal or Hardrock         ...          Shopping centres  \\\n",
       "count        1007.000000         ...               1008.000000   \n",
       "mean            2.361470         ...                  3.234127   \n",
       "std             1.372995         ...                  1.323062   \n",
       "min             1.000000         ...                  1.000000   \n",
       "25%             1.000000         ...                  2.000000   \n",
       "50%             2.000000         ...                  3.000000   \n",
       "75%             3.000000         ...                  4.000000   \n",
       "max             5.000000         ...                  5.000000   \n",
       "\n",
       "       Branded clothing  Entertainment spending  Spending on looks  \\\n",
       "count       1008.000000             1007.000000        1007.000000   \n",
       "mean           3.050595                3.201589           3.106256   \n",
       "std            1.306321                1.188947           1.205368   \n",
       "min            1.000000                1.000000           1.000000   \n",
       "25%            2.000000                2.000000           2.000000   \n",
       "50%            3.000000                3.000000           3.000000   \n",
       "75%            4.000000                4.000000           4.000000   \n",
       "max            5.000000                5.000000           5.000000   \n",
       "\n",
       "       Spending on gadgets  Spending on healthy eating          Age  \\\n",
       "count          1010.000000                  1008.00000  1003.000000   \n",
       "mean              2.870297                     3.55754    20.433699   \n",
       "std               1.284970                     1.09375     2.828840   \n",
       "min               1.000000                     1.00000    15.000000   \n",
       "25%               2.000000                     3.00000    19.000000   \n",
       "50%               3.000000                     4.00000    20.000000   \n",
       "75%               4.000000                     4.00000    22.000000   \n",
       "max               5.000000                     5.00000    30.000000   \n",
       "\n",
       "           Height      Weight  Number of siblings  \n",
       "count  990.000000  990.000000         1004.000000  \n",
       "mean   173.514141   66.405051            1.297809  \n",
       "std     10.024505   13.839561            1.013348  \n",
       "min     62.000000   41.000000            0.000000  \n",
       "25%    167.000000   55.000000            1.000000  \n",
       "50%    173.000000   64.000000            1.000000  \n",
       "75%    180.000000   75.000000            2.000000  \n",
       "max    203.000000  165.000000           10.000000  \n",
       "\n",
       "[8 rows x 139 columns]"
      ]
     },
     "execution_count": 5,
     "metadata": {},
     "output_type": "execute_result"
    }
   ],
   "source": [
    "df.describe()"
   ]
  },
  {
   "cell_type": "markdown",
   "metadata": {},
   "source": [
    "We can see the top 5 rows of the dataset. The data set contains numerical values as well as categorical values. Most of the data is numerical about 139 columns. About 11 columns are categorical.<br> Now lets check out what all are the columns in details"
   ]
  },
  {
   "cell_type": "code",
   "execution_count": 6,
   "metadata": {},
   "outputs": [
    {
     "name": "stdout",
     "output_type": "stream",
     "text": [
      "['Music', 'Slow songs or fast songs', 'Dance', 'Folk', 'Country', 'Classical music', 'Musical', 'Pop', 'Rock', 'Metal or Hardrock', 'Punk', 'Hiphop, Rap', 'Reggae, Ska', 'Swing, Jazz', 'Rock n roll', 'Alternative', 'Latino', 'Techno, Trance', 'Opera', 'Movies', 'Horror', 'Thriller', 'Comedy', 'Romantic', 'Sci-fi', 'War', 'Fantasy/Fairy tales', 'Animated', 'Documentary', 'Western', 'Action', 'History', 'Psychology', 'Politics', 'Mathematics', 'Physics', 'Internet', 'PC', 'Economy Management', 'Biology', 'Chemistry', 'Reading', 'Geography', 'Foreign languages', 'Medicine', 'Law', 'Cars', 'Art exhibitions', 'Religion', 'Countryside, outdoors', 'Dancing', 'Musical instruments', 'Writing', 'Passive sport', 'Active sport', 'Gardening', 'Celebrities', 'Shopping', 'Science and technology', 'Theatre', 'Fun with friends', 'Adrenaline sports', 'Pets', 'Flying', 'Storm', 'Darkness', 'Heights', 'Spiders', 'Snakes', 'Rats', 'Ageing', 'Dangerous dogs', 'Fear of public speaking', 'Smoking', 'Alcohol', 'Healthy eating', 'Daily events', 'Prioritising workload', 'Writing notes', 'Workaholism', 'Thinking ahead', 'Final judgement', 'Reliability', 'Keeping promises', 'Loss of interest', 'Friends versus money', 'Funniness', 'Fake', 'Criminal damage', 'Decision making', 'Elections', 'Self-criticism', 'Judgment calls', 'Hypochondria', 'Empathy', 'Eating to survive', 'Giving', 'Compassion to animals', 'Borrowed stuff', 'Loneliness', 'Cheating in school', 'Health', 'Changing the past', 'God', 'Dreams', 'Charity', 'Number of friends', 'Punctuality', 'Lying', 'Waiting', 'New environment', 'Mood swings', 'Appearence and gestures', 'Socializing', 'Achievements', 'Responding to a serious letter', 'Children', 'Assertiveness', 'Getting angry', 'Knowing the right people', 'Public speaking', 'Unpopularity', 'Life struggles', 'Happiness in life', 'Energy levels', 'Small - big dogs', 'Personality', 'Finding lost valuables', 'Getting up', 'Interests or hobbies', \"Parents' advice\", 'Questionnaires or polls', 'Internet usage', 'Finances', 'Shopping centres', 'Branded clothing', 'Entertainment spending', 'Spending on looks', 'Spending on gadgets', 'Spending on healthy eating', 'Age', 'Height', 'Weight', 'Number of siblings', 'Gender', 'Left - right handed', 'Education', 'Only child', 'Village - town', 'House - block of flats']\n"
     ]
    }
   ],
   "source": [
    "print(df.columns.tolist())"
   ]
  },
  {
   "cell_type": "markdown",
   "metadata": {},
   "source": [
    "# STEP 1: DATA PREPROCESSING"
   ]
  },
  {
   "cell_type": "markdown",
   "metadata": {},
   "source": [
    "# Visualize null values <br>\n",
    "Now we will see if there are any null values present in the data. If so then how many in each columns."
   ]
  },
  {
   "cell_type": "code",
   "execution_count": 7,
   "metadata": {},
   "outputs": [
    {
     "data": {
      "text/plain": [
       "Music                          3\n",
       "Slow songs or fast songs       2\n",
       "Dance                          4\n",
       "Folk                           5\n",
       "Country                        5\n",
       "Classical music                7\n",
       "Musical                        2\n",
       "Pop                            3\n",
       "Rock                           6\n",
       "Metal or Hardrock              3\n",
       "Punk                           8\n",
       "Hiphop, Rap                    4\n",
       "Reggae, Ska                    7\n",
       "Swing, Jazz                    6\n",
       "Rock n roll                    7\n",
       "Alternative                    7\n",
       "Latino                         8\n",
       "Techno, Trance                 7\n",
       "Opera                          1\n",
       "Movies                         6\n",
       "Horror                         2\n",
       "Thriller                       1\n",
       "Comedy                         3\n",
       "Romantic                       3\n",
       "Sci-fi                         2\n",
       "War                            2\n",
       "Fantasy/Fairy tales            3\n",
       "Animated                       3\n",
       "Documentary                    8\n",
       "Western                        4\n",
       "                              ..\n",
       "Public speaking                2\n",
       "Unpopularity                   3\n",
       "Life struggles                 3\n",
       "Happiness in life              4\n",
       "Energy levels                  5\n",
       "Small - big dogs               4\n",
       "Personality                    4\n",
       "Finding lost valuables         4\n",
       "Getting up                     5\n",
       "Interests or hobbies           3\n",
       "Parents' advice                2\n",
       "Questionnaires or polls        4\n",
       "Internet usage                 0\n",
       "Finances                       3\n",
       "Shopping centres               2\n",
       "Branded clothing               2\n",
       "Entertainment spending         3\n",
       "Spending on looks              3\n",
       "Spending on gadgets            0\n",
       "Spending on healthy eating     2\n",
       "Age                            7\n",
       "Height                        20\n",
       "Weight                        20\n",
       "Number of siblings             6\n",
       "Gender                         6\n",
       "Left - right handed            3\n",
       "Education                      1\n",
       "Only child                     2\n",
       "Village - town                 4\n",
       "House - block of flats         4\n",
       "Length: 150, dtype: int64"
      ]
     },
     "execution_count": 7,
     "metadata": {},
     "output_type": "execute_result"
    }
   ],
   "source": [
    "df.isnull().sum()"
   ]
  },
  {
   "cell_type": "code",
   "execution_count": 8,
   "metadata": {},
   "outputs": [
    {
     "data": {
      "text/plain": [
       "<matplotlib.axes._subplots.AxesSubplot at 0x5bb3423208>"
      ]
     },
     "execution_count": 8,
     "metadata": {},
     "output_type": "execute_result"
    },
    {
     "data": {
      "image/png": "[encoded data removed]",
      "text/plain": [
       "<matplotlib.figure.Figure at 0x5bb3423a58>"
      ]
     },
     "metadata": {},
     "output_type": "display_data"
    }
   ],
   "source": [
    "from matplotlib import pyplot\n",
    "a4_dims = ( 25,12)\n",
    "fig, ax = pyplot.subplots(figsize=a4_dims)\n",
    "sns.heatmap(df.isnull(),yticklabels=False,cbar=False,ax=ax)"
   ]
  },
  {
   "cell_type": "markdown",
   "metadata": {},
   "source": [
    " Since this is a survey, Many people did not fill the information they might not want to share, or were not aware about. Specially hegiht and weight.\n",
    " Many data sets have null values, either because it exists or was never collected or it never existed before"
   ]
  },
  {
   "cell_type": "markdown",
   "metadata": {},
   "source": [
    "# Working with target column\n",
    "Lets get started with our target column. We will firs see the classification of the our target columns into its different classes."
   ]
  },
  {
   "cell_type": "code",
   "execution_count": 9,
   "metadata": {},
   "outputs": [
    {
     "data": {
      "text/plain": [
       "<matplotlib.axes._subplots.AxesSubplot at 0x5bb3709ef0>"
      ]
     },
     "execution_count": 9,
     "metadata": {},
     "output_type": "execute_result"
    },
    {
     "data": {
      "image/png": "[encoded data removed]",
      "text/plain": [
       "<matplotlib.figure.Figure at 0x5bb33a5f60>"
      ]
     },
     "metadata": {},
     "output_type": "display_data"
    }
   ],
   "source": [
    "target='Spending on healthy eating'\n",
    "# Ignoring the tupple since class label is missing\n",
    "df = df[np.isfinite(df[target])]\n",
    "#see data distribution of y column\n",
    "sns.countplot(target,data=df)"
   ]
  },
  {
   "cell_type": "markdown",
   "metadata": {},
   "source": [
    "First we will remove all the rows that are missing for our target column. This is because we cannot assume any value to our missing values in our target column by using mean median mode methods. We also see that the data distribution is skewed. It means the class distribution is imbalanced. So the model will always try to predict the most frequent class. This inturn reduces the accuracy. In order that our model predicts better. We will do oversampling. Oversampling using SMOTE helps in randomy sampling the class data which are in minority. oversampling is usually done only to the training data."
   ]
  },
  {
   "cell_type": "markdown",
   "metadata": {},
   "source": [
    "# Handling with categorical columns\n",
    "Its now time to handle categorical data. Categorical data cannot be handled by the machine learning models. Machine learning models only deals with numeric data. Thus we need to convert our categorical data to numeric data. Either we can drop those columns or we can use one hot encoding. I used one hot encoding by making dummies of categorical columns."
   ]
  },
  {
   "cell_type": "code",
   "execution_count": 10,
   "metadata": {
    "collapsed": true
   },
   "outputs": [],
   "source": [
    "df2 = pd.get_dummies(df, columns=['Smoking', 'Alcohol','Punctuality', 'Lying','Internet usage','Gender', 'Left - right handed', 'Education', 'Only child', 'Village - town', 'House - block of flats'])\n",
    "#df2=df.drop(['Smoking', 'Alcohol','Punctuality', 'Lying','Internet usage','Gender', 'Left - right handed', 'Education', 'Only child', 'Village - town', 'House - block of flats'],axis=1)"
   ]
  },
  {
   "cell_type": "markdown",
   "metadata": {},
   "source": [
    "# Outliers detection and Handling\n",
    "\n",
    "Outliers are the data point which act as an error or noise in the data. They are caused by various reason like false reading, faulty machine, or mistakes done while filling data. Outlier can cause serious problems in the data and can affect the performance of the model. Therefore it is very necessary for us to either smooth the noisy data. Outliers can be univariate and multivariate. Various methods are binning, boundary detection etc."
   ]
  },
  {
   "cell_type": "code",
   "execution_count": 11,
   "metadata": {},
   "outputs": [
    {
     "name": "stdout",
     "output_type": "stream",
     "text": [
      "<class 'pandas.core.frame.DataFrame'>\n",
      "Int64Index: 1005 entries, 0 to 1009\n",
      "Columns: 173 entries, Music to House - block of flats_house/bungalow\n",
      "dtypes: float64(134), int64(5), uint8(34)\n",
      "memory usage: 1.1 MB\n"
     ]
    },
    {
     "data": {
      "image/png": "[encoded data removed]",
      "text/plain": [
       "<matplotlib.figure.Figure at 0x5bb54670b8>"
      ]
     },
     "metadata": {},
     "output_type": "display_data"
    },
    {
     "data": {
      "image/png": "[encoded data removed]",
      "text/plain": [
       "<matplotlib.figure.Figure at 0x5bb54672b0>"
      ]
     },
     "metadata": {},
     "output_type": "display_data"
    }
   ],
   "source": [
    "df2.hist('Weight')\n",
    "df2[df.Weight.iloc[:]>140]\n",
    "#rows 885 992\n",
    "df2.hist('Height')\n",
    "df2[df.Height.iloc[:]<130]\n",
    "# rows 676\n",
    "#df.iloc[[1,2,3,100]]\n",
    "df2.drop(df.index[[885,992,676]],axis=0,inplace=True)\n",
    "df2.info()"
   ]
  },
  {
   "cell_type": "markdown",
   "metadata": {
    "collapsed": true
   },
   "source": [
    "We notice that most of the data is between 1 to 5 so there are no outlier in those columns. Only issues were age, weight and height.<br>\n",
    "We handle those outliers by removing them.<br><br>\n",
    "# Filling Missing values\n",
    "<br> Missing  values can be filled using Mean, Median, Mode. We will use median for filling the data because most of the data are natural numbers and not whole numbers. Mean will make them whole numbers. Also this approach can provide better estimates both of the underlying relations among the variables and of the reliability of your estimates."
   ]
  },
  {
   "cell_type": "code",
   "execution_count": 12,
   "metadata": {
    "collapsed": true
   },
   "outputs": [],
   "source": [
    "df2.fillna(df2.median(),inplace=True)\n",
    "#df2.fillna(df2.mean(),inplace=True)\n",
    "#df2 = df2.apply(lambda x:x.fillna(x.value_counts().index[0]))"
   ]
  },
  {
   "cell_type": "code",
   "execution_count": 13,
   "metadata": {},
   "outputs": [
    {
     "data": {
      "text/plain": [
       "(1005, 173)"
      ]
     },
     "execution_count": 13,
     "metadata": {},
     "output_type": "execute_result"
    }
   ],
   "source": [
    "df2.shape"
   ]
  },
  {
   "cell_type": "markdown",
   "metadata": {},
   "source": [
    "# STEP 2 : DATA ANALYSIS"
   ]
  },
  {
   "cell_type": "code",
   "execution_count": 14,
   "metadata": {},
   "outputs": [
    {
     "data": {
      "text/plain": [
       "<matplotlib.axes._subplots.AxesSubplot at 0x5bb54ce7f0>"
      ]
     },
     "execution_count": 14,
     "metadata": {},
     "output_type": "execute_result"
    },
    {
     "data": {
      "image/png": "[encoded data removed]",
      "text/plain": [
       "<matplotlib.figure.Figure at 0x5bb370f5f8>"
      ]
     },
     "metadata": {},
     "output_type": "display_data"
    }
   ],
   "source": [
    "a4_dims = ( 25,12)\n",
    "fig, ax = pyplot.subplots(figsize=a4_dims)\n",
    "sns.barplot(df['Age'],df[target],df['Alcohol'],ax=ax)"
   ]
  },
  {
   "cell_type": "code",
   "execution_count": 15,
   "metadata": {},
   "outputs": [
    {
     "data": {
      "text/plain": [
       "<matplotlib.axes._subplots.AxesSubplot at 0x5bb5856438>"
      ]
     },
     "execution_count": 15,
     "metadata": {},
     "output_type": "execute_result"
    },
    {
     "data": {
      "image/png": "[encoded data removed]",
      "text/plain": [
       "<matplotlib.figure.Figure at 0x5bb370f0f0>"
      ]
     },
     "metadata": {},
     "output_type": "display_data"
    }
   ],
   "source": [
    "a4_dims = ( 25,12)\n",
    "fig, ax = pyplot.subplots(figsize=a4_dims)\n",
    "sns.boxplot(df['Workaholism'],df[target],ax=ax)"
   ]
  },
  {
   "cell_type": "code",
   "execution_count": null,
   "metadata": {
    "collapsed": true
   },
   "outputs": [],
   "source": []
  },
  {
   "cell_type": "markdown",
   "metadata": {},
   "source": [
    "# Seperate the data into x and y\n",
    "we do this to specify our target column to machine learning algorithms"
   ]
  },
  {
   "cell_type": "code",
   "execution_count": 16,
   "metadata": {
    "collapsed": true
   },
   "outputs": [],
   "source": [
    "X=df2.drop(target,axis=1)\n",
    "y=df2[target]"
   ]
  },
  {
   "cell_type": "markdown",
   "metadata": {},
   "source": [
    "# Split Data into train/dev/test data\n",
    "Models are run on training data to train it. Its hyperparameters are tuned with dev data and then finally its accuracy is tested on test data"
   ]
  },
  {
   "cell_type": "code",
   "execution_count": 17,
   "metadata": {
    "collapsed": true
   },
   "outputs": [],
   "source": [
    "def CreateSplits(X,y):\n",
    "    \n",
    "    X_train, X_test, y_train, y_test = train_test_split(X, y, test_size=0.2,random_state=101)\n",
    "    X_train, X_val, y_train, y_val = train_test_split(X_train, y_train, test_size=0.20,random_state=101)\n",
    "    return X_train,y_train,X_val,y_val,X_test,y_test"
   ]
  },
  {
   "cell_type": "markdown",
   "metadata": {},
   "source": [
    "# Data transformation\n",
    "We transform data using scaling and standardization. We do scaling so that we do not have too much difference gap between columns range. Different techniques of scaling are standard scaling and min_max scaling."
   ]
  },
  {
   "cell_type": "code",
   "execution_count": 18,
   "metadata": {},
   "outputs": [
    {
     "data": {
      "text/html": [
       "<div>\n",
       "<style scoped>\n",
       "    .dataframe tbody tr th:only-of-type {\n",
       "        vertical-align: middle;\n",
       "    }\n",
       "\n",
       "    .dataframe tbody tr th {\n",
       "        vertical-align: top;\n",
       "    }\n",
       "\n",
       "    .dataframe thead th {\n",
       "        text-align: right;\n",
       "    }\n",
       "</style>\n",
       "<table border=\"1\" class=\"dataframe\">\n",
       "  <thead>\n",
       "    <tr style=\"text-align: right;\">\n",
       "      <th></th>\n",
       "      <th>0</th>\n",
       "      <th>1</th>\n",
       "      <th>2</th>\n",
       "      <th>3</th>\n",
       "      <th>4</th>\n",
       "      <th>5</th>\n",
       "      <th>6</th>\n",
       "      <th>7</th>\n",
       "      <th>8</th>\n",
       "      <th>9</th>\n",
       "      <th>...</th>\n",
       "      <th>162</th>\n",
       "      <th>163</th>\n",
       "      <th>164</th>\n",
       "      <th>165</th>\n",
       "      <th>166</th>\n",
       "      <th>167</th>\n",
       "      <th>168</th>\n",
       "      <th>169</th>\n",
       "      <th>170</th>\n",
       "      <th>171</th>\n",
       "    </tr>\n",
       "  </thead>\n",
       "  <tbody>\n",
       "    <tr>\n",
       "      <th>0</th>\n",
       "      <td>0.404438</td>\n",
       "      <td>-0.390816</td>\n",
       "      <td>-0.951996</td>\n",
       "      <td>-1.134064</td>\n",
       "      <td>-0.114316</td>\n",
       "      <td>-0.764990</td>\n",
       "      <td>-1.399903</td>\n",
       "      <td>1.315908</td>\n",
       "      <td>1.049339</td>\n",
       "      <td>-0.989516</td>\n",
       "      <td>...</td>\n",
       "      <td>-0.070711</td>\n",
       "      <td>-0.296078</td>\n",
       "      <td>-0.294086</td>\n",
       "      <td>-1.263685</td>\n",
       "      <td>0.581563</td>\n",
       "      <td>-0.578499</td>\n",
       "      <td>-1.525718</td>\n",
       "      <td>1.540287</td>\n",
       "      <td>0.835246</td>\n",
       "      <td>-0.828397</td>\n",
       "    </tr>\n",
       "    <tr>\n",
       "      <th>1</th>\n",
       "      <td>-1.100971</td>\n",
       "      <td>0.810315</td>\n",
       "      <td>-0.951996</td>\n",
       "      <td>-1.134064</td>\n",
       "      <td>-1.048359</td>\n",
       "      <td>-1.565839</td>\n",
       "      <td>-0.605043</td>\n",
       "      <td>-0.410577</td>\n",
       "      <td>1.049339</td>\n",
       "      <td>1.204154</td>\n",
       "      <td>...</td>\n",
       "      <td>-0.070711</td>\n",
       "      <td>-0.296078</td>\n",
       "      <td>-0.294086</td>\n",
       "      <td>-1.263685</td>\n",
       "      <td>0.581563</td>\n",
       "      <td>-0.578499</td>\n",
       "      <td>0.655429</td>\n",
       "      <td>-0.649230</td>\n",
       "      <td>0.835246</td>\n",
       "      <td>-0.828397</td>\n",
       "    </tr>\n",
       "    <tr>\n",
       "      <th>2</th>\n",
       "      <td>0.404438</td>\n",
       "      <td>2.011446</td>\n",
       "      <td>-0.951996</td>\n",
       "      <td>-0.252599</td>\n",
       "      <td>0.819727</td>\n",
       "      <td>0.836708</td>\n",
       "      <td>1.779538</td>\n",
       "      <td>-0.410577</td>\n",
       "      <td>1.049339</td>\n",
       "      <td>0.472931</td>\n",
       "      <td>...</td>\n",
       "      <td>-0.070711</td>\n",
       "      <td>-0.296078</td>\n",
       "      <td>-0.294086</td>\n",
       "      <td>0.791337</td>\n",
       "      <td>0.581563</td>\n",
       "      <td>-0.578499</td>\n",
       "      <td>0.655429</td>\n",
       "      <td>-0.649230</td>\n",
       "      <td>0.835246</td>\n",
       "      <td>-0.828397</td>\n",
       "    </tr>\n",
       "    <tr>\n",
       "      <th>3</th>\n",
       "      <td>0.404438</td>\n",
       "      <td>-0.390816</td>\n",
       "      <td>-0.951996</td>\n",
       "      <td>-1.134064</td>\n",
       "      <td>-1.048359</td>\n",
       "      <td>-1.565839</td>\n",
       "      <td>-1.399903</td>\n",
       "      <td>-1.273820</td>\n",
       "      <td>-1.491831</td>\n",
       "      <td>-0.989516</td>\n",
       "      <td>...</td>\n",
       "      <td>-0.070711</td>\n",
       "      <td>-0.296078</td>\n",
       "      <td>-0.294086</td>\n",
       "      <td>-1.263685</td>\n",
       "      <td>-1.719504</td>\n",
       "      <td>1.728611</td>\n",
       "      <td>0.655429</td>\n",
       "      <td>-0.649230</td>\n",
       "      <td>-1.197253</td>\n",
       "      <td>1.207151</td>\n",
       "    </tr>\n",
       "    <tr>\n",
       "      <th>4</th>\n",
       "      <td>0.404438</td>\n",
       "      <td>-0.390816</td>\n",
       "      <td>0.759553</td>\n",
       "      <td>0.628866</td>\n",
       "      <td>-0.114316</td>\n",
       "      <td>0.836708</td>\n",
       "      <td>0.189817</td>\n",
       "      <td>1.315908</td>\n",
       "      <td>-0.644775</td>\n",
       "      <td>-0.989516</td>\n",
       "      <td>...</td>\n",
       "      <td>-0.070711</td>\n",
       "      <td>-0.296078</td>\n",
       "      <td>-0.294086</td>\n",
       "      <td>0.791337</td>\n",
       "      <td>0.581563</td>\n",
       "      <td>-0.578499</td>\n",
       "      <td>-1.525718</td>\n",
       "      <td>1.540287</td>\n",
       "      <td>-1.197253</td>\n",
       "      <td>1.207151</td>\n",
       "    </tr>\n",
       "  </tbody>\n",
       "</table>\n",
       "<p>5 rows × 172 columns</p>\n",
       "</div>"
      ],
      "text/plain": [
       "        0         1         2         3         4         5         6    \\\n",
       "0  0.404438 -0.390816 -0.951996 -1.134064 -0.114316 -0.764990 -1.399903   \n",
       "1 -1.100971  0.810315 -0.951996 -1.134064 -1.048359 -1.565839 -0.605043   \n",
       "2  0.404438  2.011446 -0.951996 -0.252599  0.819727  0.836708  1.779538   \n",
       "3  0.404438 -0.390816 -0.951996 -1.134064 -1.048359 -1.565839 -1.399903   \n",
       "4  0.404438 -0.390816  0.759553  0.628866 -0.114316  0.836708  0.189817   \n",
       "\n",
       "        7         8         9      ...          162       163       164  \\\n",
       "0  1.315908  1.049339 -0.989516    ...    -0.070711 -0.296078 -0.294086   \n",
       "1 -0.410577  1.049339  1.204154    ...    -0.070711 -0.296078 -0.294086   \n",
       "2 -0.410577  1.049339  0.472931    ...    -0.070711 -0.296078 -0.294086   \n",
       "3 -1.273820 -1.491831 -0.989516    ...    -0.070711 -0.296078 -0.294086   \n",
       "4  1.315908 -0.644775 -0.989516    ...    -0.070711 -0.296078 -0.294086   \n",
       "\n",
       "        165       166       167       168       169       170       171  \n",
       "0 -1.263685  0.581563 -0.578499 -1.525718  1.540287  0.835246 -0.828397  \n",
       "1 -1.263685  0.581563 -0.578499  0.655429 -0.649230  0.835246 -0.828397  \n",
       "2  0.791337  0.581563 -0.578499  0.655429 -0.649230  0.835246 -0.828397  \n",
       "3 -1.263685 -1.719504  1.728611  0.655429 -0.649230 -1.197253  1.207151  \n",
       "4  0.791337  0.581563 -0.578499 -1.525718  1.540287 -1.197253  1.207151  \n",
       "\n",
       "[5 rows x 172 columns]"
      ]
     },
     "execution_count": 18,
     "metadata": {},
     "output_type": "execute_result"
    }
   ],
   "source": [
    "scaler = StandardScaler()\n",
    "scaler.fit(X)\n",
    "scaled_data = scaler.transform(X)\n",
    "pd.DataFrame(scaled_data).head()"
   ]
  },
  {
   "cell_type": "code",
   "execution_count": 19,
   "metadata": {},
   "outputs": [
    {
     "name": "stdout",
     "output_type": "stream",
     "text": [
      "Accuracy on validation Set using Scaling\n",
      "0.409937888199\n",
      "Accuracy on test Set using Scaling\n",
      "0.353233830846\n"
     ]
    }
   ],
   "source": [
    "\n",
    "X_train,y_train,X_val,y_val,X_test,y_test=CreateSplits(scaled_data,y)\n",
    "rfc = RandomForestClassifier(n_estimators=130)\n",
    "rfc.fit(X_train, y_train)\n",
    "rfc_pred=rfc.predict(X_val)\n",
    "print(\"Accuracy on validation Set using Scaling\")\n",
    "print(np.mean(y_val==rfc_pred))\n",
    "rfc_pred = rfc.predict(X_test)\n",
    "print(\"Accuracy on test Set using Scaling\")\n",
    "print(np.mean(y_test==rfc_pred))"
   ]
  },
  {
   "cell_type": "markdown",
   "metadata": {},
   "source": [
    "# PCA\n",
    "We see that scaling did not give us a sufficient accuracy. May be its because we have too many dimensions and reduandant features can cause us to reduce accuracy. Hence we can try PCA to give us less features which will represent as accurate to the real data."
   ]
  },
  {
   "cell_type": "code",
   "execution_count": 20,
   "metadata": {},
   "outputs": [
    {
     "name": "stdout",
     "output_type": "stream",
     "text": [
      "Accuracy on validation Set using PCA\n",
      "0.409937888199\n",
      "Accuracy on test Set using PCA\n",
      "0.363184079602\n"
     ]
    }
   ],
   "source": [
    "pca = PCA(n_components=7)\n",
    "pca.fit(scaled_data)\n",
    "x_pca = pca.transform(scaled_data)\n",
    "x_pca.shape\n",
    "X_train,y_train,X_val,y_val,X_test,y_test=CreateSplits(scaled_data,y)\n",
    "from sklearn.ensemble import RandomForestClassifier\n",
    "rfc = RandomForestClassifier(n_estimators=140)\n",
    "rfc.fit(X_train, y_train)\n",
    "rfc_pred=rfc.predict(X_val)\n",
    "print(\"Accuracy on validation Set using PCA\")\n",
    "print(np.mean(y_val==rfc_pred))\n",
    "rfc_pred = rfc.predict(X_test)\n",
    "print(\"Accuracy on test Set using PCA\")\n",
    "print(np.mean(y_test==rfc_pred))\n"
   ]
  },
  {
   "cell_type": "markdown",
   "metadata": {},
   "source": [
    "# SVM with PCA"
   ]
  },
  {
   "cell_type": "code",
   "execution_count": 21,
   "metadata": {},
   "outputs": [
    {
     "name": "stdout",
     "output_type": "stream",
     "text": [
      "Accuracy on validation Set using PCA\n",
      "0.32298136646\n",
      "Accuracy on test Set using PCA\n",
      "0.293532338308\n"
     ]
    }
   ],
   "source": [
    "param_grid = {'C': [0.1,1, 10, 100, 1000], 'gamma': [1,0.1,0.01,0.001,0.0001], 'kernel': ['linear','poly']} \n",
    "grid = GridSearchCV(SVC(),param_grid,refit=True,verbose=0)\n",
    "grid.fit(X_train,y_train)\n",
    "grid_predictions = grid.predict(X_val)\n",
    "print(\"Accuracy on validation Set using PCA\")\n",
    "print(np.mean(y_val==grid_predictions))\n",
    "grid_predictions = grid.predict(X_test)\n",
    "print(\"Accuracy on test Set using PCA\")\n",
    "print(np.mean(y_test==grid_predictions))\n"
   ]
  },
  {
   "cell_type": "markdown",
   "metadata": {},
   "source": [
    "# Visual analysis of pca components"
   ]
  },
  {
   "cell_type": "code",
   "execution_count": 22,
   "metadata": {},
   "outputs": [
    {
     "data": {
      "text/plain": [
       "Text(0,0.5,'Second Principal Component')"
      ]
     },
     "execution_count": 22,
     "metadata": {},
     "output_type": "execute_result"
    },
    {
     "data": {
      "image/png": "[encoded data removed]",
      "text/plain": [
       "<matplotlib.figure.Figure at 0x5bb5934748>"
      ]
     },
     "metadata": {},
     "output_type": "display_data"
    }
   ],
   "source": [
    "plt.figure(figsize=(8,6))\n",
    "plt.scatter(x_pca[:,0],x_pca[:,1],c=y,cmap='plasma')\n",
    "plt.xlabel('First principal component')\n",
    "plt.ylabel('Second Principal Component')"
   ]
  },
  {
   "cell_type": "markdown",
   "metadata": {
    "collapsed": true
   },
   "source": [
    "After trying various component values, the model did not perform better. However there was minor improvement.\n",
    "# Now lets try and check other baseline models without pca"
   ]
  },
  {
   "cell_type": "code",
   "execution_count": 23,
   "metadata": {
    "collapsed": true
   },
   "outputs": [],
   "source": [
    "def over_sample(train_vectors, train_class):\n",
    "    sm = SMOTE(random_state=42)\n",
    "    train_vectors, train_class = sm.fit_sample(train_vectors, train_class)\n",
    "    return train_vectors, train_class        \n"
   ]
  },
  {
   "cell_type": "markdown",
   "metadata": {
    "collapsed": true
   },
   "source": [
    "# KNN"
   ]
  },
  {
   "cell_type": "code",
   "execution_count": 24,
   "metadata": {},
   "outputs": [
    {
     "name": "stdout",
     "output_type": "stream",
     "text": [
      "Best accuracy of KNN on validation:\n",
      "0.347826086957\n",
      "Accuracy of KNN on test \n",
      "0.348258706468\n"
     ]
    }
   ],
   "source": [
    "def KNN(X,y):\n",
    "    max_i=0\n",
    "    max_acc=0\n",
    "    max_cols=0\n",
    "    for cols in np.arange(5,35):\n",
    "        X_new = SelectKBest( k=cols).fit_transform(X, y)\n",
    "        X_train,y_train,X_val,y_val,X_test,y_test=CreateSplits(X_new,y)\n",
    "        X_train, y_train = over_sample(X_train, y_train)\n",
    "        for i in range(7,41):\n",
    "            knn = KNeighborsClassifier(n_neighbors=i,weights='distance')\n",
    "            knn.fit(X_train,y_train)\n",
    "            pred_i = knn.predict(X_val)\n",
    "            if (max_acc<np.mean(y_val==pred_i)):\n",
    "                    max_i=i\n",
    "                    max_cols=cols\n",
    "                    max_acc=np.mean(y_val==pred_i)\n",
    "    knn = KNeighborsClassifier(n_neighbors=max_i,weights='distance')\n",
    "    X_new = SelectKBest( k=max_cols).fit_transform(X, y)\n",
    "    X_train,y_train,X_val,y_val,X_test,y_test=CreateSplits(X_new,y)\n",
    "    knn.fit(X_train,y_train)\n",
    "    pred_i = knn.predict(X_val)\n",
    "    print(\"Best accuracy of KNN on validation:\")\n",
    "    print(np.mean(y_val==pred_i))\n",
    "    print(\"Accuracy of KNN on test \")\n",
    "    pred_i = knn.predict(X_test)\n",
    "    print(np.mean(y_test==pred_i))    \n",
    "KNN(X,y)        "
   ]
  },
  {
   "cell_type": "markdown",
   "metadata": {},
   "source": [
    "# Decision Tree"
   ]
  },
  {
   "cell_type": "code",
   "execution_count": 25,
   "metadata": {},
   "outputs": [
    {
     "name": "stdout",
     "output_type": "stream",
     "text": [
      "Accuracy of Decision Tree on validation:\n",
      "0.298136645963\n",
      "Accuracy of Decision Tree on test:\n",
      "0.268656716418\n"
     ]
    }
   ],
   "source": [
    "def decision_tree(X_train,y_train,X_val,y_val,X_test,y_test):\n",
    "    max_i=0\n",
    "    max_acc=0\n",
    "    max_j=0\n",
    "    _,col=X_train.shape\n",
    "    for i in np.arange(10,30):\n",
    "        for j in np.arange(1,40):\n",
    "            dtree = DecisionTreeClassifier(max_features=i,max_depth=j)\n",
    "            dtree.fit(X_train,y_train)\n",
    "            predictions = dtree.predict(X_val)\n",
    "            if (max_acc<np.mean(y_val==predictions)):\n",
    "                max_i=i\n",
    "                max_j=j\n",
    "                max_acc=np.mean(y_val==predictions)\n",
    "    dtree = DecisionTreeClassifier(max_features=max_i,max_depth=max_j)\n",
    "    dtree.fit(X_train,y_train)\n",
    "    predictions = dtree.predict(X_val)\n",
    "    print(\"Accuracy of Decision Tree on validation:\")\n",
    "    print(np.mean(y_val==predictions))\n",
    "    predictions = dtree.predict(X_test)\n",
    "    print(\"Accuracy of Decision Tree on test:\")\n",
    "    print(np.mean(y_test==predictions))\n",
    "X_train,y_train,X_val,y_val,X_test,y_test=CreateSplits(X,y)\n",
    "decision_tree(X_train,y_train,X_val,y_val,X_test,y_test)"
   ]
  },
  {
   "cell_type": "markdown",
   "metadata": {
    "collapsed": true
   },
   "source": [
    "# Multilayer Perceptron with gridsearch"
   ]
  },
  {
   "cell_type": "code",
   "execution_count": 33,
   "metadata": {},
   "outputs": [
    {
     "name": "stdout",
     "output_type": "stream",
     "text": [
      "Accuracy for MLP on validation :\n",
      "0.335403726708\n",
      "Accuracy for MLP on test :\n",
      "0.258706467662\n"
     ]
    }
   ],
   "source": [
    "def MLP(X_train,y_train,X_val,y_val,X_test,y_test):\n",
    "    gs = GridSearchCV(MLPClassifier(), param_grid={\n",
    "    'solver' : ['lbfgs', 'sgd', 'adam'],\n",
    "    'alpha': [0.00001,0.0001,0.001,0.01,0.01],\n",
    "    'hidden_layer_sizes':[(15, 25)],\n",
    "    'random_state': [1]\n",
    "            })\n",
    "    gs.fit(X_train, y_train)\n",
    "    grid_predictions = gs.predict(X_val)\n",
    "    print(\"Accuracy for MLP on validation :\")\n",
    "    print(np.mean(y_val==grid_predictions))\n",
    "    grid_predictions = gs.predict(X_test)\n",
    "    print(\"Accuracy for MLP on test :\")\n",
    "    print(np.mean(y_test==grid_predictions))\n",
    "X_train,y_train,X_val,y_val,X_test,y_test=CreateSplits(X,y)\n",
    "MLP(X_train,y_train,X_val,y_val,X_test,y_test)    "
   ]
  },
  {
   "cell_type": "markdown",
   "metadata": {},
   "source": [
    "# SVM with GridSearch"
   ]
  },
  {
   "cell_type": "code",
   "execution_count": 27,
   "metadata": {},
   "outputs": [
    {
     "name": "stdout",
     "output_type": "stream",
     "text": [
      "Accuracy for SVM on validation\n",
      "0.335403726708\n",
      "Accuracy for SVM on test\n",
      "0.34328358209\n"
     ]
    }
   ],
   "source": [
    "X_train,y_train,X_val,y_val,X_test,y_test=CreateSplits(X,y)\n",
    "model = SVC()\n",
    "param_grid = {'C': [0.1,1, 10, 100, 1000], 'gamma': [1,0.1,0.01,0.001,0.0001], 'kernel': ['rbf']} \n",
    "grid = GridSearchCV(model,param_grid,refit=True,verbose=0)\n",
    "grid.fit(X_train,y_train)\n",
    "print(\"Accuracy for SVM on validation\")\n",
    "grid_predictions = grid.predict(X_val)\n",
    "print(np.mean(y_val==grid_predictions))\n",
    "print(\"Accuracy for SVM on test\")\n",
    "grid_predictions = grid.predict(X_test)\n",
    "print(np.mean(y_test==grid_predictions))\n",
    "\n"
   ]
  },
  {
   "cell_type": "markdown",
   "metadata": {},
   "source": [
    "# My model using ensembling technique"
   ]
  },
  {
   "cell_type": "code",
   "execution_count": 32,
   "metadata": {},
   "outputs": [
    {
     "name": "stdout",
     "output_type": "stream",
     "text": [
      "Runnig my_model-------\n",
      "Training model and tuning hyperparameters\n",
      "Best features selected now check test set\n",
      "Accuracy for my_model\n",
      "0.402985074627\n"
     ]
    }
   ],
   "source": [
    "def my_model(X,y):\n",
    "    print(\"Runnig my_model-------\")\n",
    "    rows,col=X.shape\n",
    "    clf1 = ExtraTreesClassifier(n_estimators=80, max_depth=None,min_samples_split=2)\n",
    "    clf2 = RandomForestClassifier(n_estimators=250, max_depth=None,random_state=101)\n",
    "    clf3 = AdaBoostClassifier(n_estimators=80)\n",
    "    clf4 = GradientBoostingClassifier(n_estimators=180, learning_rate=1.0,max_depth=1)\n",
    "    clf5 = RandomForestClassifier(random_state=1)\n",
    "    clf8 = ExtraTreesClassifier(n_estimators=80, max_depth=None,min_samples_split=2)\n",
    "    clf6 = GaussianNB()\n",
    "    clf7 = SVC(kernel='rbf', probability=True)\n",
    "    clf10 = BaggingClassifier(base_estimator=DecisionTreeClassifier(), n_estimators=100, random_state=7)\n",
    "    clf8 = SVC(kernel='poly',probability=True)\n",
    "    clf9 = MLPClassifier(solver='lbfgs', alpha=1e-5,\n",
    "                    hidden_layer_sizes=(5, 2), random_state=1)\n",
    "\n",
    "    max_acc=0\n",
    "    max_i=0\n",
    "    print(\"Training model and tuning hyperparameters\")\n",
    "    for i in np.arange(64,67):\n",
    "        X_new = SelectKBest( k=i).fit_transform(X, y)\n",
    "        X_train,y_train,X_val,y_val,X_test,y_test=CreateSplits(X_new,y)\n",
    "        eclf = VotingClassifier(estimators=[('et', clf1), ('rfc', clf2), ('ab', clf3),('gb', clf4),('rfc1', clf5),('gnb', clf6),('svc',clf7),('svc1',clf8),('mlp',clf9),('bc',clf10)], voting='soft')\n",
    "        eclf = eclf.fit(X_train,y_train)\n",
    "        pred=eclf.predict(X_val)\n",
    "           \n",
    "        if(max_acc<np.mean(y_val==pred)):\n",
    "            max_acc=np.mean(y_val==pred)\n",
    "            max_i=i\n",
    "    print(\"Best features selected now check test set\")    \n",
    "    X_new = SelectKBest( k=max_i).fit_transform(X, y)\n",
    "    X_train,y_train,X_val,y_val,X_test,y_test=CreateSplits(X_new,y)\n",
    "    eclf = VotingClassifier(estimators=[('et', clf1), ('rfc', clf2), ('ab', clf3),('ab1', clf3),('gb', clf4),('rfc1', clf5),('gnb', clf6),('svc',clf7),('svc1',clf8),('svc3',clf8),('mlp',clf9),('bc',clf10)], voting='soft')\n",
    "    eclf = eclf.fit(X_train,y_train)\n",
    "    pred=eclf.predict(X_test)\n",
    "    print(\"Accuracy for my_model\")\n",
    "    print(np.mean(pred==y_test))\n",
    "my_model(X,y)"
   ]
  },
  {
   "cell_type": "markdown",
   "metadata": {
    "collapsed": true
   },
   "source": [
    "# Results\n",
    "After using ensembling technique, the overall accuracy increases. This is because different model gives their own predicition and max prediction becomes actual prediction"
   ]
  },
  {
   "cell_type": "code",
   "execution_count": null,
   "metadata": {
    "collapsed": true
   },
   "outputs": [],
   "source": []
  }
 ],
 "metadata": {
  "kernelspec": {
   "display_name": "Python 3",
   "language": "python",
   "name": "python3"
  },
  "language_info": {
   "codemirror_mode": {
    "name": "ipython",
    "version": 3
   },
   "file_extension": ".py",
   "mimetype": "text/x-python",
   "name": "python",
   "nbconvert_exporter": "python",
   "pygments_lexer": "ipython3",
   "version": "3.6.3"
  }
 },
 "nbformat": 4,
 "nbformat_minor": 2
}
